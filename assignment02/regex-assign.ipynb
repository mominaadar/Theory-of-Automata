{
 "cells": [
  {
   "cell_type": "code",
   "execution_count": 1215,
   "metadata": {},
   "outputs": [],
   "source": [
    "import datetime, time"
   ]
  },
  {
   "cell_type": "code",
   "execution_count": 1216,
   "metadata": {},
   "outputs": [
    {
     "name": "stdout",
     "output_type": "stream",
     "text": [
      "['2020', '10', '09']\n"
     ]
    }
   ],
   "source": [
    "date = datetime.datetime.now()\n",
    "date2 = date.strftime(\"%Y-%m-%d\")\n",
    "date3 = str(date2).split(\"-\")\n",
    "print(date3)"
   ]
  },
  {
   "cell_type": "code",
   "execution_count": 1217,
   "metadata": {},
   "outputs": [],
   "source": [
    "def d():\n",
    "    if datetime.date(2020,10,9) == datetime.date(2020,10,9):\n",
    "        return \"Less\",True"
   ]
  },
  {
   "cell_type": "code",
   "execution_count": 1218,
   "metadata": {},
   "outputs": [
    {
     "name": "stdout",
     "output_type": "stream",
     "text": [
      "CPU times: user 52 µs, sys: 7 µs, total: 59 µs\n",
      "Wall time: 75.8 µs\n"
     ]
    },
    {
     "data": {
      "text/plain": [
       "('Less', True)"
      ]
     },
     "execution_count": 1218,
     "metadata": {},
     "output_type": "execute_result"
    }
   ],
   "source": [
    "%time d()"
   ]
  },
  {
   "cell_type": "markdown",
   "metadata": {},
   "source": [
    "## Example 1 - simple"
   ]
  },
  {
   "cell_type": "code",
   "execution_count": 1219,
   "metadata": {},
   "outputs": [],
   "source": [
    "def check_email(email):\n",
    "    \n",
    "    if '@' not in email:\n",
    "        return \"Invalid email. Please try again.\"\n",
    "    \n",
    "    username = email.split('@')[0]    \n",
    "    \n",
    "    if username == \"\":\n",
    "        return \"Invalid username.\"\n",
    "    \n",
    "    for i in username:\n",
    "                \n",
    "        if i == '.' or i == '_' or (i >= 'a' and i <= 'z') or (i >= '0' and i <= '9'):\n",
    "            continue\n",
    "        else:\n",
    "            return(\"Invalid username. Please try again..\")\n",
    "    \n",
    "    domain = email.split('@')[1]\n",
    "    \n",
    "    s = check_domain(domain)\n",
    "    \n",
    "    if s != None:\n",
    "        return s\n",
    "            "
   ]
  },
  {
   "cell_type": "code",
   "execution_count": 1220,
   "metadata": {},
   "outputs": [],
   "source": [
    "def check_domain(domain):\n",
    "    domain = '@'+domain\n",
    "    l = ['@gmail.com','@outlook.com','@yahoo.com','@hotmail.com']\n",
    "\n",
    "    if domain not in l:\n",
    "        return 'Invalid domain. Please try again'\n",
    "    else:\n",
    "        return 'Valid email'"
   ]
  },
  {
   "cell_type": "code",
   "execution_count": 1221,
   "metadata": {},
   "outputs": [],
   "source": [
    " \n",
    "file = open('data.txt', 'r') \n",
    "\n",
    "for line in file:\n",
    "    line = line[:-1]\n",
    "#     ret = %time check_email(line)\n",
    "#     print(line+\" - \"+ret)\n",
    "    \n"
   ]
  },
  {
   "cell_type": "code",
   "execution_count": 1222,
   "metadata": {},
   "outputs": [
    {
     "data": {
      "text/plain": [
       "'Valid email'"
      ]
     },
     "execution_count": 1222,
     "metadata": {},
     "output_type": "execute_result"
    }
   ],
   "source": [
    "check_email('mona.dar07@gmail.com')"
   ]
  },
  {
   "cell_type": "markdown",
   "metadata": {},
   "source": [
    "## Example 1 - RegEx"
   ]
  },
  {
   "cell_type": "code",
   "execution_count": 1223,
   "metadata": {},
   "outputs": [],
   "source": [
    "import re"
   ]
  },
  {
   "cell_type": "code",
   "execution_count": 1224,
   "metadata": {},
   "outputs": [
    {
     "name": "stdout",
     "output_type": "stream",
     "text": [
      "['mona.dar07@gmail.com']\n",
      "['mona_dar07@yaho.com']\n",
      "[]\n",
      "[]\n",
      "['mona.dar07@yahoo.com']\n",
      "[]\n",
      "[]\n",
      "[]\n",
      "[]\n",
      "['mona_dar@hotmail.com']\n",
      "[]\n"
     ]
    }
   ],
   "source": [
    "file = open('data.txt','r')\n",
    "l = []\n",
    "for line in file:\n",
    "#     pattern = re.compile('[a-z._0-9]+@+[yahoo|outlook|hotmail|gmail]+\\.+[com]{3}')\n",
    "    pattern = re.compile(r'(^[a-z0-9_.]+@+[(?=.*gmail)(?=.*hotmail)(?=.*yahoo)]+.+[com]{3})')\n",
    "    m = pattern.findall(line)\n",
    "    \n",
    "    print(m)"
   ]
  },
  {
   "cell_type": "code",
   "execution_count": null,
   "metadata": {},
   "outputs": [],
   "source": []
  },
  {
   "cell_type": "code",
   "execution_count": null,
   "metadata": {},
   "outputs": [],
   "source": []
  },
  {
   "cell_type": "code",
   "execution_count": null,
   "metadata": {},
   "outputs": [],
   "source": []
  },
  {
   "cell_type": "code",
   "execution_count": null,
   "metadata": {},
   "outputs": [],
   "source": []
  },
  {
   "cell_type": "markdown",
   "metadata": {},
   "source": [
    "## Example 2 - simple"
   ]
  },
  {
   "cell_type": "code",
   "execution_count": 1257,
   "metadata": {},
   "outputs": [],
   "source": [
    "def check_date(filename):\n",
    "    \n",
    "    days31 = ['01','03','05','07','08','10','12']\n",
    "    days30 = ['04','06','09','11']\n",
    "    days28 = ['02']\n",
    "    \n",
    "    data_list = []\n",
    "    \n",
    "    d = datetime.datetime.now()\n",
    "    c = d.strftime(\"%Y-%m-%d\")\n",
    "    dt = str(c).split(\" \")\n",
    "    dt2 = dt[0].split(\"-\")\n",
    "    \n",
    "    \n",
    "    file = open(filename, 'r') \n",
    "\n",
    "    for line in file:\n",
    "                \n",
    "        l = line.split(\" \")\n",
    "        if l[0] >= '1' and l[0] <= '9':\n",
    "            data_list.append(l[0])\n",
    "    \n",
    "            \n",
    "    for i in data_list:\n",
    "        isplit = i.split('-')\n",
    "\n",
    "#       Checking format (yyyy-mm-dd) and validity of date\n",
    "\n",
    "        if len(isplit[0]) == len('0000') and len(isplit[1]) == len('00') and len(isplit[2]) == len('00'):\n",
    "            \n",
    "            if (int(isplit[1]) > 0 and int(isplit[1]) <= 12):\n",
    "                \n",
    "                if (isplit[1] in days31 and (int(isplit[2]) > 0 and int(isplit[2]) <= 31)) or (isplit[1] in days30 and (int(isplit[2]) > 0 and int(isplit[2]) <= 30)) or (isplit[1] in days28 and (int(isplit[2]) > 0 and int(isplit[2]) <= 28)):\n",
    "                    continue\n",
    "                else:\n",
    "                    return(\"Invalid date at: \",i)\n",
    "            else:\n",
    "                return(\"Invalid month at: \",i)\n",
    "        else:\n",
    "            return(\"Invalid format at: \",i)\n",
    "    \n",
    "    \n",
    "    val = check_future_date(data_list,dt2)\n",
    "    \n",
    "    if val != True:\n",
    "        return \"Invalid date (future date) at: \", val"
   ]
  },
  {
   "cell_type": "code",
   "execution_count": 1258,
   "metadata": {},
   "outputs": [
    {
     "data": {
      "text/plain": [
       "('Invalid month at: ', '2021-13-10')"
      ]
     },
     "execution_count": 1258,
     "metadata": {},
     "output_type": "execute_result"
    }
   ],
   "source": [
    "check_date('logs.txt')"
   ]
  },
  {
   "cell_type": "code",
   "execution_count": 1251,
   "metadata": {},
   "outputs": [],
   "source": [
    "def check_future_date(data_list,dt2):\n",
    "\n",
    "    for i in range(0,len(data_list)):\n",
    "        d = data_list[i].split('-')\n",
    "        \n",
    "        if datetime.date(int(d[0]),int(d[1]),int(d[2])) > datetime.date(int(dt2[0]),int(dt2[1]),int(dt2[2])):\n",
    "            d = data_list[i]\n",
    "            return d\n",
    "        \n",
    "    return True"
   ]
  },
  {
   "cell_type": "markdown",
   "metadata": {},
   "source": [
    "## Example 2 - RegEx"
   ]
  },
  {
   "cell_type": "code",
   "execution_count": 1228,
   "metadata": {},
   "outputs": [],
   "source": [
    "file = open('logs.txt','r')\n",
    "string=\"\"\n",
    "for line in file:\n",
    "    string = line+string\n",
    "    \n",
    "pattern = re.compile('(19|20)\\d\\d[-](0[1-9]|1[012])[-](0[1-9]|[12][0-9]|3[01])')\n",
    "\n",
    "m = pattern.findall(string)"
   ]
  },
  {
   "cell_type": "code",
   "execution_count": 1229,
   "metadata": {},
   "outputs": [
    {
     "name": "stdout",
     "output_type": "stream",
     "text": [
      "[('20', '10', '04'), ('20', '10', '03'), ('20', '10', '01'), ('20', '09', '28'), ('20', '09', '05'), ('20', '08', '26'), ('20', '08', '02')]\n"
     ]
    }
   ],
   "source": [
    "print(m)"
   ]
  },
  {
   "cell_type": "code",
   "execution_count": null,
   "metadata": {},
   "outputs": [],
   "source": []
  },
  {
   "cell_type": "code",
   "execution_count": null,
   "metadata": {},
   "outputs": [],
   "source": []
  },
  {
   "cell_type": "markdown",
   "metadata": {},
   "source": [
    "## Python file code Example 1"
   ]
  },
  {
   "cell_type": "code",
   "execution_count": 1,
   "metadata": {},
   "outputs": [],
   "source": [
    "import sys\n",
    "\n",
    "filename = sys.argv[1]"
   ]
  },
  {
   "cell_type": "code",
   "execution_count": 2,
   "metadata": {},
   "outputs": [],
   "source": [
    "def check_email(email):\n",
    "\n",
    "    if '@' not in email:\n",
    "        return \"Invalid email. Please try again.\"\n",
    "\n",
    "    username = email.split('@')[0]\n",
    "\n",
    "    for i in username:\n",
    "\n",
    "        if i == '.' or i == '_' or (i >= 'a' and i <= 'z') or (i >= '0' and i <= '9'):\n",
    "            continue\n",
    "        else:\n",
    "            return(\"Invalid username. Please try again..\")\n",
    "\n",
    "    domain = email.split('@')[1]\n",
    "    s = check_domain(domain)\n",
    "\n",
    "    if s != None:\n",
    "         return s"
   ]
  },
  {
   "cell_type": "code",
   "execution_count": 3,
   "metadata": {},
   "outputs": [],
   "source": [
    "def check_domain(domain):\n",
    "    domain = '@'+domain\n",
    "    l = ['@gmail.com','@outlook.com','@yahoo.com','@hotmail.com']\n",
    "\n",
    "    if domain not in l:\n",
    "        return 'Invalid domain. Please try again'\n",
    "    else:\n",
    "        return 'Valid email'"
   ]
  },
  {
   "cell_type": "code",
   "execution_count": 5,
   "metadata": {},
   "outputs": [
    {
     "name": "stdout",
     "output_type": "stream",
     "text": [
      "mona.dar07@gmail.com - Valid email\n",
      "mona_dar07@yaho.com - Invalid domain. Please try again\n",
      "mona/dar@gmail.com - Invalid username. Please try again..\n",
      "mona.dar07hotmail.com - Invalid email. Please try again.\n",
      "mona.dar07@yahoo.com - Valid email\n",
      "mona.dar/07@outlookcom - Invalid username. Please try again..\n",
      "mona/dar07@o_utlook.cm - Invalid username. Please try again..\n",
      "mona.dar!yahoo.com - Invalid email. Please try again.\n",
      "mona/dar@gmil.com - Invalid username. Please try again..\n",
      "mona_dar@hotmail.com - Valid email\n"
     ]
    }
   ],
   "source": [
    "if __name__ == \"__main__\":\n",
    "\n",
    "    file = open('data.txt', 'r') \n",
    "\n",
    "    for line in file:\n",
    "        line = line[:-1]\n",
    "        ret = check_email(line)\n",
    "        print(line+\" - \"+ret)"
   ]
  },
  {
   "cell_type": "markdown",
   "metadata": {},
   "source": [
    "## Python file code Example 2"
   ]
  },
  {
   "cell_type": "code",
   "execution_count": null,
   "metadata": {},
   "outputs": [],
   "source": [
    "#import sys\n",
    "import datetime\n",
    "\n",
    "#filename = sys.argv[1]\n"
   ]
  },
  {
   "cell_type": "code",
   "execution_count": 1254,
   "metadata": {},
   "outputs": [],
   "source": [
    "def check_date(filename):\n",
    "\n",
    "    days31 = ['01','03','05','07','08','10','12']\n",
    "    days30 = ['04','06','09','11']\n",
    "    days28 = ['02']\n",
    "\n",
    "    data_list = []\n",
    "\n",
    "    d = datetime.datetime.now()\n",
    "    c = d.strftime(\"%Y-%m-%d\")\n",
    "    dt = str(c).split(\" \")\n",
    "    dt2 = dt[0].split(\"-\")\n",
    "\n",
    "\n",
    "    file = open(filename, 'r')\n",
    "\n",
    "    for line in file:\n",
    "\n",
    "        l = line.split(\" \")\n",
    "        if l[0] >= '1' and l[0] <= '9':\n",
    "            data_list.append(l[0])\n",
    "\n",
    "\n",
    "    for i in data_list:\n",
    "        isplit = i.split('-')\n",
    "\n",
    "#       Checking format (yyyy-mm-dd) and validity of date\n",
    "\n",
    "        if len(isplit[0]) == len('0000') and len(isplit[1]) == len('00') and len(isplit[2]) == len('00'):\n",
    "\n",
    "            if (int(isplit[1]) > 0 and int(isplit[1]) <= 12):\n",
    "\n",
    "                if (isplit[1] in days31 and (int(isplit[2]) > 0 and int(isplit[2]) <= 31)) or (isplit[1] in days30 and (int(isplit[2]) > 0 and int(isplit[2]) <= 30)) or (isplit[1] in days28 and (int(isplit[2]) > 0 and int(isplit[2]) <= 28)):\n",
    "                    continue\n",
    "                else:\n",
    "                    return(\"Invalid date at: \",i)\n",
    "            else:\n",
    "                return(\"Invalid month at: \",i)\n",
    "        else:\n",
    "            return(\"Invalid format at: \",i)\n",
    "\n",
    "        \n",
    "\n",
    "    val = check_future_date(data_list,dt2)\n",
    "\n",
    "    file.close()\n",
    "\n",
    "    if val != True:\n",
    "        return \"Invalid date (future date) at: \", val"
   ]
  },
  {
   "cell_type": "code",
   "execution_count": 1255,
   "metadata": {},
   "outputs": [],
   "source": [
    "def check_future_date(data_list,dt2):\n",
    "\n",
    "    for i in range(0,len(data_list)):\n",
    "        d = data_list[i].split('-')\n",
    "\n",
    "        if datetime.date(int(d[0]),int(d[1]),int(d[2])) > datetime.date(int(dt2[0]),int(dt2[1]),int(dt2[2])):\n",
    "            d = data_list[i]\n",
    "            return d\n",
    "\n",
    "    return True"
   ]
  },
  {
   "cell_type": "code",
   "execution_count": 1256,
   "metadata": {},
   "outputs": [
    {
     "name": "stdout",
     "output_type": "stream",
     "text": [
      "('Invalid month at: ', '2021-13-10')\n"
     ]
    }
   ],
   "source": [
    "if __name__ == \"__main__\":\n",
    "\n",
    "    val = check_date('logs.txt')\n",
    "\n",
    "    if val != None:\n",
    "        print(val)"
   ]
  },
  {
   "cell_type": "code",
   "execution_count": null,
   "metadata": {},
   "outputs": [],
   "source": []
  }
 ],
 "metadata": {
  "kernelspec": {
   "display_name": "Python 3",
   "language": "python",
   "name": "python3"
  },
  "language_info": {
   "codemirror_mode": {
    "name": "ipython",
    "version": 3
   },
   "file_extension": ".py",
   "mimetype": "text/x-python",
   "name": "python",
   "nbconvert_exporter": "python",
   "pygments_lexer": "ipython3",
   "version": "3.8.3"
  }
 },
 "nbformat": 4,
 "nbformat_minor": 4
}
